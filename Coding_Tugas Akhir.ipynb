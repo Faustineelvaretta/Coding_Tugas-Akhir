{
 "cells": [
  {
   "cell_type": "markdown",
   "metadata": {
    "id": "3oPW0vYv8mPz"
   },
   "source": [
    "#**ANALISIS SENTIMEN APLIKASI GETCONTACT MENGGUNAKAN METODE RANDOM FOREST DENGAN EKSTRAKSI FITUR WORD2VEC**"
   ]
  },
  {
   "cell_type": "markdown",
   "metadata": {
    "id": "q0Yo2zdg8yce"
   },
   "source": [
    "Dataset berisi 1000 ulasan pengguna aplikasi Getcontact yang diambil dari Google Play Store. Data tersebut dikumpulkan melalui proses scraping menggunakan Python, dan setiap ulasan telah diterjemahkan ke dalam bahasa Inggris untuk memudahkan proses analisis sentimen.\n",
    "Dataset ini bisa diakses dan didownload dari Kaggle,\n",
    "\n",
    "link: https://www.kaggle.com/datasets/fajarsetiawan37/dataset-getcontact-app-reviews?resource=download\n",
    "\n"
   ]
  },
  {
   "cell_type": "markdown",
   "metadata": {
    "id": "-CRWuRyZypnc"
   },
   "source": [
    "##Memuat Dataset"
   ]
  },
  {
   "cell_type": "code",
   "execution_count": 1,
   "metadata": {
    "colab": {
     "base_uri": "https://localhost:8080/",
     "height": 608
    },
    "id": "zGYGajiKyLaR",
    "outputId": "05003e1c-33af-4e03-a0af-c952cae75206"
   },
   "outputs": [
    {
     "data": {
      "text/html": [
       "<div>\n",
       "<style scoped>\n",
       "    .dataframe tbody tr th:only-of-type {\n",
       "        vertical-align: middle;\n",
       "    }\n",
       "\n",
       "    .dataframe tbody tr th {\n",
       "        vertical-align: top;\n",
       "    }\n",
       "\n",
       "    .dataframe thead th {\n",
       "        text-align: right;\n",
       "    }\n",
       "</style>\n",
       "<table border=\"1\" class=\"dataframe\">\n",
       "  <thead>\n",
       "    <tr style=\"text-align: right;\">\n",
       "      <th></th>\n",
       "      <th>content</th>\n",
       "      <th>sentiment</th>\n",
       "    </tr>\n",
       "  </thead>\n",
       "  <tbody>\n",
       "    <tr>\n",
       "      <th>0</th>\n",
       "      <td>Saya kecewa setelah ada fitur tidak dpt menamp...</td>\n",
       "      <td>Negative</td>\n",
       "    </tr>\n",
       "    <tr>\n",
       "      <th>1</th>\n",
       "      <td>Aplikasi lelet minta ampun... Susah di jadikan...</td>\n",
       "      <td>Negative</td>\n",
       "    </tr>\n",
       "    <tr>\n",
       "      <th>2</th>\n",
       "      <td>Setelah update, tidak bisa digunakan lagi. Set...</td>\n",
       "      <td>Negative</td>\n",
       "    </tr>\n",
       "    <tr>\n",
       "      <th>3</th>\n",
       "      <td>Aplikasinya bagus, manfaatnya bagus, fiturnya ...</td>\n",
       "      <td>Positive</td>\n",
       "    </tr>\n",
       "    <tr>\n",
       "      <th>4</th>\n",
       "      <td>Dengan adanya Aplikasi Getcontact, bisa memban...</td>\n",
       "      <td>Positive</td>\n",
       "    </tr>\n",
       "  </tbody>\n",
       "</table>\n",
       "</div>"
      ],
      "text/plain": [
       "                                             content sentiment\n",
       "0  Saya kecewa setelah ada fitur tidak dpt menamp...  Negative\n",
       "1  Aplikasi lelet minta ampun... Susah di jadikan...  Negative\n",
       "2  Setelah update, tidak bisa digunakan lagi. Set...  Negative\n",
       "3  Aplikasinya bagus, manfaatnya bagus, fiturnya ...  Positive\n",
       "4  Dengan adanya Aplikasi Getcontact, bisa memban...  Positive"
      ]
     },
     "execution_count": 1,
     "metadata": {},
     "output_type": "execute_result"
    }
   ],
   "source": [
    "import pandas as pd\n",
    "\n",
    "# memuat dataset\n",
    "file_path = 'vader_analyzed_reviews_1000_new.xlsx'\n",
    "df = pd.read_excel(file_path)\n",
    "\n",
    "# melihat beberapa baris pertama dari dataset\n",
    "df.head()"
   ]
  },
  {
   "cell_type": "markdown",
   "metadata": {
    "id": "aVH67Y1UyvaG"
   },
   "source": [
    "##Tahap Preprocessing"
   ]
  },
  {
   "cell_type": "code",
   "execution_count": 2,
   "metadata": {
    "colab": {
     "base_uri": "https://localhost:8080/",
     "height": 431
    },
    "id": "o4gXtPpBzALg",
    "outputId": "0038eb65-df9f-446b-e17d-041c06df3799"
   },
   "outputs": [
    {
     "name": "stderr",
     "output_type": "stream",
     "text": [
      "[nltk_data] Downloading package punkt to\n",
      "[nltk_data]     C:\\Users\\User\\AppData\\Roaming\\nltk_data...\n",
      "[nltk_data]   Package punkt is already up-to-date!\n"
     ]
    },
    {
     "name": "stdout",
     "output_type": "stream",
     "text": [
      "The detailed processed reviews have been saved to 'processed_reviews_detailed.csv'.\n"
     ]
    }
   ],
   "source": [
    "import pandas as pd\n",
    "import re\n",
    "import nltk\n",
    "import json\n",
    "from nltk.tokenize import word_tokenize\n",
    "from Sastrawi.Stemmer.StemmerFactory import StemmerFactory\n",
    "\n",
    "# mengunduh model NLTK\n",
    "nltk.download('punkt')\n",
    "\n",
    "# inisialisasi Indonesian stemmer\n",
    "factory = StemmerFactory()\n",
    "stemmer = factory.create_stemmer()\n",
    "\n",
    "# fungsi untuk memuat kamus slangwords\n",
    "def load_slang_dictionary(filepath):\n",
    "    with open(filepath, 'r', encoding='utf-8') as file:\n",
    "        slang_json = file.read()\n",
    "        slang_dict = json.loads(slang_json)\n",
    "    return slang_dict\n",
    "\n",
    "# fungsi untuk memuat kamus stopwords\n",
    "def load_stop_words(filepath):\n",
    "    with open(filepath, 'r', encoding='utf-8') as file:\n",
    "        stop_words = set(file.read().splitlines())\n",
    "    return stop_words\n",
    "\n",
    "# fungsi untuk mengganti kata slang pada teks\n",
    "def replace_slang(text, slang_dict):\n",
    "    words = text.split()\n",
    "    replaced_words = [slang_dict.get(word, word) for word in words]\n",
    "    return ' '.join(replaced_words)\n",
    "\n",
    "# fungsi pre-processing\n",
    "def preprocess_text(text, slang_dict, stop_words_custom):\n",
    "    # Case folding\n",
    "    case_folded = text.lower()\n",
    "\n",
    "    # Remove punctuation\n",
    "    no_punctuation = re.sub(r'[^\\w\\s]', '', case_folded)\n",
    "    no_punctuation = re.sub(r'\\d+', '', no_punctuation)\n",
    "\n",
    "    # Replace slang words (Normalization)\n",
    "    normalized = replace_slang(no_punctuation, slang_dict)\n",
    "\n",
    "    # Tokenizing (split into words)\n",
    "    tokens = normalized.split()\n",
    "\n",
    "    # Stopword removal\n",
    "    tokens_no_stopwords = [word for word in tokens if word not in stop_words_custom]\n",
    "\n",
    "    # Stemming\n",
    "    stemmed_tokens = [stemmer.stem(word) for word in tokens_no_stopwords]\n",
    "\n",
    "    # menggabungkan token yang telah di-stem menjadi satu string tunggal yang disebut \"Cleaned Text\"\n",
    "    cleaned_text = ' '.join(stemmed_tokens)\n",
    "\n",
    "    return case_folded, no_punctuation, normalized, tokens, tokens_no_stopwords, stemmed_tokens, cleaned_text\n",
    "\n",
    "# memuat kamus slang words dan stop words\n",
    "slang_dict = load_slang_dictionary('combined_slang_words.txt')\n",
    "stop_words_custom = load_stop_words('combined_stop_words.txt')\n",
    "\n",
    "# mengaplikasikan fungsi preprocessing dan membagi hasil kedalam kolom terpisah\n",
    "results = df['content'].apply(lambda text: preprocess_text(text, slang_dict, stop_words_custom))\n",
    "df[['case_folded', 'no_punctuation', 'normalized', 'tokenized', 'tokens_no_stopwords', 'stemmed_tokens', 'cleaned_text']] = pd.DataFrame(results.tolist(), index=df.index)\n",
    "\n",
    "# simpan DataFrame menjadi file CSV\n",
    "df.to_csv('processed_reviews_detailed.csv', index=False, columns=['content', 'case_folded', 'no_punctuation', 'normalized', 'tokenized', 'tokens_no_stopwords', 'stemmed_tokens', 'cleaned_text'])\n",
    "\n",
    "# tampilkan pesan ketika selesai\n",
    "print(\"The detailed processed reviews have been saved to 'processed_reviews_detailed.csv'.\")"
   ]
  },
  {
   "cell_type": "markdown",
   "metadata": {},
   "source": [
    "##Splitting Data"
   ]
  },
  {
   "cell_type": "code",
   "execution_count": 3,
   "metadata": {},
   "outputs": [
    {
     "name": "stdout",
     "output_type": "stream",
     "text": [
      "Testing data saved to 'testing_data.csv'.\n",
      "Training data saved to 'training_data.csv'.\n"
     ]
    }
   ],
   "source": [
    "# bagi DataFrame untuk testing dan training\n",
    "\n",
    "df_testing = df.iloc[800:1000]\n",
    "df_training = df.iloc[:800]\n",
    "\n",
    "# simpan testing dan training data ke file CSV terpisah\n",
    "df_testing.to_csv('testing_data.csv', index=False)\n",
    "df_training.to_csv('training_data.csv', index=False)\n",
    "\n",
    "# tampilkan pesan ketika selesai\n",
    "print(\"Testing data saved to 'testing_data.csv'.\")\n",
    "print(\"Training data saved to 'training_data.csv'.\")"
   ]
  },
  {
   "cell_type": "code",
   "execution_count": 4,
   "metadata": {
    "colab": {
     "base_uri": "https://localhost:8080/"
    },
    "id": "TcuWbtGJ3egl",
    "outputId": "9b583b12-cafc-494a-a396-9cdabaebf511"
   },
   "outputs": [
    {
     "name": "stdout",
     "output_type": "stream",
     "text": [
      "Index(['content', 'sentiment', 'case_folded', 'no_punctuation', 'normalized',\n",
      "       'tokenized', 'tokens_no_stopwords', 'stemmed_tokens', 'cleaned_text'],\n",
      "      dtype='object')\n"
     ]
    }
   ],
   "source": [
    "print(df.columns)"
   ]
  },
  {
   "cell_type": "markdown",
   "metadata": {
    "id": "T8iDyk8HKW2S"
   },
   "source": [
    "Code tersebut diperuntukkan untuk mengecek nama-nama kolom yang terdapat pada dataset."
   ]
  },
  {
   "cell_type": "markdown",
   "metadata": {},
   "source": [
    "##Ekstraksi Fitur Menggunakan Word2Vec dan Klasifikasi Menggunakan Random Forest"
   ]
  },
  {
   "cell_type": "code",
   "execution_count": 5,
   "metadata": {
    "colab": {
     "base_uri": "https://localhost:8080/",
     "height": 293
    },
    "id": "J9IcFwaDzff9",
    "outputId": "34435b84-3920-40dc-b57f-637b97fe30f5",
    "scrolled": true
   },
   "outputs": [
    {
     "name": "stderr",
     "output_type": "stream",
     "text": [
      "C:\\Users\\User\\AppData\\Local\\Temp\\ipykernel_12804\\2917092983.py:31: PerformanceWarning: DataFrame is highly fragmented.  This is usually the result of calling `frame.insert` many times, which has poor performance.  Consider joining all columns at once using pd.concat(axis=1) instead. To get a de-fragmented frame, use `newframe = frame.copy()`\n",
      "  df_training[f'embedding_{i+1}'] = df_training['embedding'].apply(lambda x: x[i])\n",
      "C:\\Users\\User\\AppData\\Local\\Temp\\ipykernel_12804\\2917092983.py:32: PerformanceWarning: DataFrame is highly fragmented.  This is usually the result of calling `frame.insert` many times, which has poor performance.  Consider joining all columns at once using pd.concat(axis=1) instead. To get a de-fragmented frame, use `newframe = frame.copy()`\n",
      "  df_testing[f'embedding_{i+1}'] = df_testing['embedding'].apply(lambda x: x[i])\n",
      "C:\\Users\\User\\AppData\\Local\\Temp\\ipykernel_12804\\2917092983.py:31: PerformanceWarning: DataFrame is highly fragmented.  This is usually the result of calling `frame.insert` many times, which has poor performance.  Consider joining all columns at once using pd.concat(axis=1) instead. To get a de-fragmented frame, use `newframe = frame.copy()`\n",
      "  df_training[f'embedding_{i+1}'] = df_training['embedding'].apply(lambda x: x[i])\n",
      "C:\\Users\\User\\AppData\\Local\\Temp\\ipykernel_12804\\2917092983.py:32: PerformanceWarning: DataFrame is highly fragmented.  This is usually the result of calling `frame.insert` many times, which has poor performance.  Consider joining all columns at once using pd.concat(axis=1) instead. To get a de-fragmented frame, use `newframe = frame.copy()`\n",
      "  df_testing[f'embedding_{i+1}'] = df_testing['embedding'].apply(lambda x: x[i])\n"
     ]
    },
    {
     "name": "stdout",
     "output_type": "stream",
     "text": [
      "Training Data - First 5 Entries with Embeddings:\n",
      "                                        cleaned_text  embedding_1  \\\n",
      "0  kecewa ada fitur tidak tampil guna barusan ada...    -0.194690   \n",
      "1  aplikasi lama ampun sulit jadi default aplikas...    -0.010401   \n",
      "2  update tidak bisa guna buka muncul pesan inter...    -0.022902   \n",
      "3  aplikasi bagus manfaat bagus fiturnya bagus ta...    -0.122808   \n",
      "4  aplikasi getcontact bisa bantu jawab penasaran...    -0.177575   \n",
      "\n",
      "   embedding_2  embedding_3  embedding_4  embedding_5  embedding_6  \\\n",
      "0     0.089409    -0.013698     0.122359     0.030322    -0.244186   \n",
      "1     0.164354    -0.107837    -0.065992     0.192631    -0.263355   \n",
      "2     0.167768    -0.071771    -0.039936     0.164412    -0.244962   \n",
      "3     0.145747    -0.017606     0.062277     0.084504    -0.227910   \n",
      "4     0.152985    -0.017156     0.057959     0.043712    -0.219887   \n",
      "\n",
      "   embedding_7  embedding_8  embedding_9  ...  embedding_91  embedding_92  \\\n",
      "0     0.122280     0.285766    -0.205741  ...      0.312019      0.078779   \n",
      "1     0.080119     0.373273    -0.262053  ...      0.206636      0.089251   \n",
      "2     0.085265     0.369222    -0.238022  ...      0.237791      0.085609   \n",
      "3     0.156112     0.336793    -0.239363  ...      0.260719      0.091417   \n",
      "4     0.179246     0.316690    -0.260299  ...      0.271717      0.113250   \n",
      "\n",
      "   embedding_93  embedding_94  embedding_95  embedding_96  embedding_97  \\\n",
      "0     -0.036575      0.032529      0.327107      0.117699      0.061686   \n",
      "1      0.067802      0.014760      0.232443      0.082959      0.072556   \n",
      "2      0.052690      0.048077      0.239249      0.111783      0.072770   \n",
      "3     -0.004243     -0.021576      0.310827      0.085125      0.085365   \n",
      "4     -0.018639     -0.032063      0.342752      0.095052      0.092057   \n",
      "\n",
      "   embedding_98  embedding_99  embedding_100  \n",
      "0     -0.053001     -0.236674      -0.199875  \n",
      "1     -0.192162     -0.035141      -0.164950  \n",
      "2     -0.193980     -0.050286      -0.135491  \n",
      "3     -0.087623     -0.133587      -0.163048  \n",
      "4     -0.060384     -0.122789      -0.150404  \n",
      "\n",
      "[5 rows x 101 columns]\n",
      "Testing Data - First 5 Entries with Embeddings:\n",
      "                                        cleaned_text  embedding_1  \\\n",
      "0                  aplikasi bagus agak mahal premium    -0.169407   \n",
      "1                              aplikasi banyak iklan    -0.098214   \n",
      "2             sangat bantu telepon nomor tidak kenal    -0.207533   \n",
      "3  harus kasih bintang tapi karena get contact te...    -0.197532   \n",
      "4  informasi data telepon sering tidak cantum moh...    -0.132362   \n",
      "\n",
      "   embedding_2  embedding_3  embedding_4  embedding_5  embedding_6  \\\n",
      "0     0.090008    -0.043134     0.089615     0.159535    -0.304264   \n",
      "1     0.146778    -0.081326     0.074034     0.179478    -0.277479   \n",
      "2     0.175893     0.014113     0.060858     0.039558    -0.186373   \n",
      "3     0.107177     0.018771     0.129477     0.053045    -0.259018   \n",
      "4     0.155701    -0.028748     0.032386     0.062442    -0.220948   \n",
      "\n",
      "   embedding_7  embedding_8  embedding_9  ...  embedding_91  embedding_92  \\\n",
      "0     0.137370     0.357963    -0.125490  ...      0.227558      0.165957   \n",
      "1     0.090513     0.348183    -0.203992  ...      0.212922      0.125171   \n",
      "2     0.274532     0.285807    -0.417907  ...      0.258428      0.155224   \n",
      "3     0.132153     0.339476    -0.161968  ...      0.299749      0.125929   \n",
      "4     0.130747     0.337353    -0.228416  ...      0.274094      0.079584   \n",
      "\n",
      "   embedding_93  embedding_94  embedding_95  embedding_96  embedding_97  \\\n",
      "0      0.036787      0.012944      0.346235      0.076356      0.136309   \n",
      "1      0.072933     -0.007308      0.260736      0.016823      0.028918   \n",
      "2     -0.054878     -0.105888      0.434037      0.043636      0.075330   \n",
      "3     -0.009921      0.043339      0.320936      0.119729      0.082372   \n",
      "4     -0.009950     -0.011083      0.321090      0.123573      0.088267   \n",
      "\n",
      "   embedding_98  embedding_99  embedding_100  \n",
      "0     -0.123973     -0.167517      -0.133458  \n",
      "1     -0.099995     -0.105165      -0.141760  \n",
      "2     -0.016479     -0.108785      -0.215503  \n",
      "3     -0.049462     -0.187023      -0.138909  \n",
      "4     -0.108617     -0.119362      -0.147696  \n",
      "\n",
      "[5 rows x 101 columns]\n",
      "Accuracy: 0.87\n",
      "\n",
      "Classification Report:\n",
      "              precision    recall  f1-score   support\n",
      "\n",
      "    Negative       0.86      0.86      0.86        90\n",
      "    Positive       0.88      0.88      0.88       110\n",
      "\n",
      "    accuracy                           0.87       200\n",
      "   macro avg       0.87      0.87      0.87       200\n",
      "weighted avg       0.87      0.87      0.87       200\n",
      "\n"
     ]
    }
   ],
   "source": [
    "import pandas as pd\n",
    "from gensim.models import Word2Vec\n",
    "from sklearn.ensemble import RandomForestClassifier\n",
    "from sklearn.metrics import accuracy_score, classification_report\n",
    "\n",
    "# memuat data pelatihan dan pengujian dari file CSV\n",
    "df_training = pd.read_csv('training_data.csv')\n",
    "df_testing = pd.read_csv('testing_data.csv')\n",
    "\n",
    "# tokenisasi pada teks yang telah dibersihkan dari data pelatihan\n",
    "tokenized_text = [text.split() for text in df_training['cleaned_text']]\n",
    "\n",
    "# melatih model Word2Vec pada data pelatihan yang telah ditokenisasi\n",
    "model = Word2Vec(tokenized_text, vector_size=100, window=5, min_count=1, workers=4, sg=1, epochs=20)\n",
    "\n",
    "# fungsi untuk mendapatkan embedding kalimat dari model Word2Vec\n",
    "def get_sentence_embedding(text):\n",
    "    tokens = text.split()\n",
    "    vectors = [model.wv[word] for word in tokens if word in model.wv]\n",
    "    if vectors:\n",
    "        return sum(vectors) / len(vectors)\n",
    "    else:\n",
    "        return [0] * 100  # Return a zero vector if no words are found in the vocabulary\n",
    "\n",
    "# menerapkan fungsi get_sentence_embedding yang telah dibuat ke data pelatihan dan pengujian\n",
    "df_training['embedding'] = df_training['cleaned_text'].apply(get_sentence_embedding)\n",
    "df_testing['embedding'] = df_testing['cleaned_text'].apply(get_sentence_embedding)\n",
    "\n",
    "# memperluas setiap embedding yang diperoleh dari model Word2Vec menjadi kolomnya masing-masing dalam DataFrame\n",
    "for i in range(100):\n",
    "    df_training[f'embedding_{i+1}'] = df_training['embedding'].apply(lambda x: x[i])\n",
    "    df_testing[f'embedding_{i+1}'] = df_testing['embedding'].apply(lambda x: x[i])\n",
    "\n",
    "# Menampilkan 5 baris pertama dari DataFrame pelatihan untuk melihat embedding yang diperoleh\n",
    "print(\"Training Data - First 5 Entries with Embeddings:\")\n",
    "print(df_training[['cleaned_text'] + [f'embedding_{i+1}' for i in range(100)]].head())\n",
    "\n",
    "# Menampilkan 5 baris pertama dari DataFrame pengujian untuk melihat embedding yang diperoleh\n",
    "print(\"Testing Data - First 5 Entries with Embeddings:\")\n",
    "print(df_testing[['cleaned_text'] + [f'embedding_{i+1}' for i in range(100)]].head())\n",
    "\n",
    "# menghapus kolom 'embedding' dari DataFrame pelatihan\n",
    "df_training.drop(columns=['embedding'], inplace=True)\n",
    "# menghapus kolom 'embedding' dari DataFrame pengujian\n",
    "df_testing.drop(columns=['embedding'], inplace=True)\n",
    "\n",
    "# menyiapkan fitur (X) dan label (y) untuk model pembelajaran mesin\n",
    "X_train = df_training[[f'embedding_{i+1}' for i in range(100)]]\n",
    "y_train = df_training['sentiment']\n",
    "\n",
    "X_test = df_testing[[f'embedding_{i+1}' for i in range(100)]]\n",
    "y_test = df_testing['sentiment']\n",
    "\n",
    "# inisialiasi Random Forest classifier\n",
    "rf_classifier = RandomForestClassifier(n_estimators=100, random_state=42)\n",
    "\n",
    "# melatih model menggunakan data latih\n",
    "rf_classifier.fit(X_train, y_train)\n",
    "\n",
    "# membuat prediksi pada data pengujian\n",
    "y_pred = rf_classifier.predict(X_test)\n",
    "\n",
    "# evaluasi model\n",
    "accuracy = accuracy_score(y_test, y_pred)\n",
    "print(\"Accuracy:\", accuracy)\n",
    "print(\"\\nClassification Report:\")\n",
    "print(classification_report(y_test, y_pred))\n",
    "\n",
    "# menambahkan sentimen yang diprediksi dan aktual ke DataFrame pengujian\n",
    "df_testing['predicted_sentiment'] = y_pred\n",
    "df_testing['actual_sentiment'] = y_test\n",
    "\n",
    "# menentukan kolom yang akan disimpan\n",
    "columns_to_save = ['cleaned_text'] + [f'embedding_{i+1}' for i in range(100)] + ['actual_sentiment', 'predicted_sentiment']\n",
    "# menyimpan DataFrame ke file CSV\n",
    "df_testing[columns_to_save].to_csv('testing_results_with_embeddings.csv', index=False)"
   ]
  },
  {
   "cell_type": "code",
   "execution_count": 6,
   "metadata": {},
   "outputs": [
    {
     "name": "stdout",
     "output_type": "stream",
     "text": [
      "Jumlah prediksi benar: 174\n",
      "Jumlah prediksi salah: 26\n"
     ]
    },
    {
     "data": {
      "image/png": "[encoded data removed]",
      "text/plain": [
       "<Figure size 640x480 with 1 Axes>"
      ]
     },
     "metadata": {},
     "output_type": "display_data"
    }
   ],
   "source": [
    "# Menambahkan kolom 'correct' untuk menandai prediksi benar atau salah\n",
    "df_testing['correct'] = df_testing['predicted_sentiment'] == df_testing['actual_sentiment']\n",
    "\n",
    "# Menghitung jumlah prediksi benar dan salah\n",
    "correct_count = df_testing['correct'].sum()\n",
    "incorrect_count = len(df_testing) - correct_count\n",
    "\n",
    "print(f\"Jumlah prediksi benar: {correct_count}\")\n",
    "print(f\"Jumlah prediksi salah: {incorrect_count}\")\n",
    "import matplotlib.pyplot as plt\n",
    "\n",
    "# Data untuk bar chart\n",
    "labels = ['Benar', 'Salah']\n",
    "counts = [correct_count, incorrect_count]\n",
    "\n",
    "# Membuat bar chart\n",
    "plt.bar(labels, counts, color=['blue', 'red'])\n",
    "plt.title('Jumlah Prediksi Benar dan Salah')\n",
    "plt.xlabel('Jenis Prediksi')\n",
    "plt.ylabel('Jumlah')\n",
    "plt.show()"
   ]
  },
  {
   "cell_type": "markdown",
   "metadata": {},
   "source": [
    "##Memisahkan hasil yang cocok dan tidak cocok dari prediksi model"
   ]
  },
  {
   "cell_type": "code",
   "execution_count": 7,
   "metadata": {},
   "outputs": [
    {
     "name": "stdout",
     "output_type": "stream",
     "text": [
      "Testing data mismathed saved to 'mismatched_sentiments.csv'.\n",
      "Testing data matched saved to 'matched_sentiments.csv'.\n"
     ]
    }
   ],
   "source": [
    "# memfilter baris di mana sentimen aktual berbeda dari sentimen yang diprediksi dalam DataFrame\n",
    "mismatch_df = df_testing[df_testing['actual_sentiment'] != df_testing['predicted_sentiment']]\n",
    "\n",
    "# memfilter baris di mana sentimen aktual sesuai dengan sentimen yang diprediksi dalam DataFrame\n",
    "matches_df = df_testing[df_testing['actual_sentiment'] == df_testing['predicted_sentiment']]\n",
    "\n",
    "# menyimpan hasil ketidakcocokan (mismatched results) ke dalam file CSV\n",
    "mismatch_columns = ['content'] + ['cleaned_text'] + ['actual_sentiment', 'predicted_sentiment']\n",
    "mismatch_df[mismatch_columns].to_csv('mismatched_sentiments.csv', index=False)\n",
    "\n",
    "# menyimpan hasil yang cocok (matched results) ke dalam file CSV\n",
    "matched_columns = ['content'] + ['cleaned_text'] + ['actual_sentiment', 'predicted_sentiment']\n",
    "matches_df[matched_columns].to_csv('matched_sentiments.csv', index=False)\n",
    "\n",
    "# menampilkan pesan ketika selesai\n",
    "print(\"Testing data mismathed saved to 'mismatched_sentiments.csv'.\")\n",
    "print(\"Testing data matched saved to 'matched_sentiments.csv'.\")"
   ]
  },
  {
   "cell_type": "markdown",
   "metadata": {},
   "source": [
    " ##Menganalisis data yang tidak cocok dalam hasil prediksi model sentimen"
   ]
  },
  {
   "cell_type": "code",
   "execution_count": 8,
   "metadata": {},
   "outputs": [
    {
     "name": "stdout",
     "output_type": "stream",
     "text": [
      "<class 'pandas.core.frame.DataFrame'>\n",
      "RangeIndex: 26 entries, 0 to 25\n",
      "Data columns (total 4 columns):\n",
      " #   Column               Non-Null Count  Dtype \n",
      "---  ------               --------------  ----- \n",
      " 0   content              26 non-null     object\n",
      " 1   cleaned_text         26 non-null     object\n",
      " 2   actual_sentiment     26 non-null     object\n",
      " 3   predicted_sentiment  26 non-null     object\n",
      "dtypes: object(4)\n",
      "memory usage: 964.0+ bytes\n",
      "None\n",
      "                                             content  \\\n",
      "0  Seharusnya saya kasih bintang lima tapi karena...   \n",
      "1                  Sangat baik jaringannya luarbiasa   \n",
      "2      kontakku bnyak, tpi yg dikasih liat cmn dikit   \n",
      "3  Sejauh ini bagus sih .cmn KL mau liat Tag haru...   \n",
      "4                   Versi gratis nya perpanjang dong   \n",
      "\n",
      "                                        cleaned_text actual_sentiment  \\\n",
      "0  harus kasih bintang tapi karena get contact te...         Negative   \n",
      "1                           sangat baik jaring bagus         Positive   \n",
      "2               kontak banyak tapi kasih lihat dikit         Negative   \n",
      "3                   bagus lihat tag harus bayar dulu         Positive   \n",
      "4                               versi gratis panjang         Positive   \n",
      "\n",
      "  predicted_sentiment  \n",
      "0            Positive  \n",
      "1            Negative  \n",
      "2            Positive  \n",
      "3            Negative  \n",
      "4            Negative  \n",
      "Kata-kata umum dalam teks yang tidak cocok: [('tidak', 22), ('bisa', 12), ('tapi', 10), ('lihat', 10), ('aplikasi', 10), ('telepon', 8), ('nomor', 8), ('harus', 6), ('ada', 6), ('bagus', 6)]\n"
     ]
    }
   ],
   "source": [
    "# memuat data\n",
    "mismatched_data = pd.read_csv('mismatched_sentiments.csv')\n",
    "\n",
    "# tampilkan informasi dasar dan beberapa baris pertama untuk mendapatkan gambaran data\n",
    "print(mismatched_data.info())\n",
    "print(mismatched_data.head())\n",
    "\n",
    "# periksa kata-kata umum dalam entri yang tidak cocok\n",
    "from collections import Counter\n",
    "all_words = Counter(\" \".join(mismatched_data['cleaned_text']).split())\n",
    "common_words = all_words.most_common(10)\n",
    "print(\"Kata-kata umum dalam teks yang tidak cocok:\", common_words)"
   ]
  },
  {
   "cell_type": "markdown",
   "metadata": {},
   "source": [
    "##Melakukan evaluasi menggunakan Confussion Matrix"
   ]
  },
  {
   "cell_type": "code",
   "execution_count": 9,
   "metadata": {
    "colab": {
     "base_uri": "https://localhost:8080/"
    },
    "id": "U-xLnczl4WOp",
    "outputId": "2a78fb19-f952-4a47-b930-b60f5635ceee"
   },
   "outputs": [
    {
     "name": "stdout",
     "output_type": "stream",
     "text": [
      "\n",
      "Confusion Matrix:\n",
      "[[77 13]\n",
      " [13 97]]\n"
     ]
    },
    {
     "data": {
      "image/png": "[encoded data removed]",
      "text/plain": [
       "<Figure size 800x600 with 2 Axes>"
      ]
     },
     "metadata": {},
     "output_type": "display_data"
    }
   ],
   "source": [
    "import pandas as pd\n",
    "import numpy as np\n",
    "from gensim.models import Word2Vec\n",
    "from sklearn.ensemble import RandomForestClassifier\n",
    "from sklearn.metrics import accuracy_score, classification_report, confusion_matrix\n",
    "import seaborn as sns\n",
    "import matplotlib.pyplot as plt\n",
    "\n",
    "# menghitung confusion matrix\n",
    "cm = confusion_matrix(y_test, y_pred)\n",
    "print(\"\\nConfusion Matrix:\")\n",
    "print(cm)\n",
    "\n",
    "# memplot confusion matrix\n",
    "plt.figure(figsize=(8, 6))\n",
    "sns.heatmap(cm, annot=True, fmt='d', cmap='Blues')\n",
    "plt.title('Confusion Matrix')\n",
    "plt.ylabel('Actual Sentiment')\n",
    "plt.xlabel('Predicted Sentiment')\n",
    "plt.show()"
   ]
  }
 ],
 "metadata": {
  "colab": {
   "provenance": []
  },
  "kernelspec": {
   "display_name": "Python 3 (ipykernel)",
   "language": "python",
   "name": "python3"
  },
  "language_info": {
   "codemirror_mode": {
    "name": "ipython",
    "version": 3
   },
   "file_extension": ".py",
   "mimetype": "text/x-python",
   "name": "python",
   "nbconvert_exporter": "python",
   "pygments_lexer": "ipython3",
   "version": "3.11.9"
  }
 },
 "nbformat": 4,
 "nbformat_minor": 1
}
